{
 "cells": [
  {
   "cell_type": "markdown",
   "id": "0ba18a01",
   "metadata": {},
   "source": [
    "## Computer Infrastructure - Autumn 2024/25"
   ]
  },
  {
   "cell_type": "markdown",
   "id": "1783ea18",
   "metadata": {},
   "source": [
    "##### Liliana Pereira - G00411560"
   ]
  },
  {
   "cell_type": "markdown",
   "id": "8217d82a",
   "metadata": {},
   "source": [
    "## Weather Task Report"
   ]
  },
  {
   "cell_type": "markdown",
   "id": "3a7d9001",
   "metadata": {},
   "source": [
    "This document outlines the step-by-step process and methodology employed to complete Tasks 1 through 9 of the Weather Task Project. The project aimed to organize, automate, and analyze weather data using shell commands, scripting, and Python libraries such as pandas. Below is a detailed description of each task, including the commands or scripts used, their purposes, and insights gained."
   ]
  },
  {
   "cell_type": "markdown",
   "id": "e8bf9e75",
   "metadata": {},
   "source": [
    "## Task 1: Create Directory Structure\n",
    "\n",
    "### Objective\n",
    "Establish a well-organized directory structure to store data files, including timestamps and weather data."
   ]
  },
  {
   "cell_type": "markdown",
   "id": "36e7ba8a",
   "metadata": {},
   "source": [
    "> `!mkdir data/timestamps data/weather`"
   ]
  },
  {
   "cell_type": "markdown",
   "id": "87643da0",
   "metadata": {},
   "source": [
    "### Explanation\n",
    "- **`mkdir -p`**: Creates the specified directories. If any parent directories do not exist, they are also created.\n",
    "- The directories `data/timestamps` and `data/weather` were created to store timestamp and weather data files, respectively."
   ]
  },
  {
   "cell_type": "markdown",
   "id": "668955a4",
   "metadata": {},
   "source": [
    "## Result\n",
    "The directory structure was successfully established, ensuring logical separation and easy navigation of project data."
   ]
  },
  {
   "cell_type": "markdown",
   "id": "b07bbfc2",
   "metadata": {},
   "source": [
    "## Task 2: Generate and Append Timestamps\n",
    "\n",
    "### Objective\n",
    "Generate current date and time values ten times and append them to a file for later reference."
   ]
  },
  {
   "cell_type": "markdown",
   "id": "876d379d",
   "metadata": {},
   "source": [
    "> `for i in range(10):\n",
    "    !date >> data/timestamps/now.txt`"
   ]
  },
  {
   "cell_type": "markdown",
   "id": "3192833f",
   "metadata": {},
   "source": [
    "### Explanation\n",
    "- **`for i in range(10)`**: Executes the enclosed command 10 times.\n",
    "- **`date`**: Outputs the current date and time.\n",
    "- **`>>`**: Appends the output to the file `now.txt`."
   ]
  },
  {
   "cell_type": "markdown",
   "id": "668b0c06",
   "metadata": {},
   "source": [
    "### Result\n",
    "The file `now.txt` contains ten entries of the current date and time."
   ]
  },
  {
   "cell_type": "markdown",
   "id": "2edc73b5",
   "metadata": {},
   "source": [
    "## Task 3: Generate Formatted Timestamps\n",
    "\n",
    "### Objective\n",
    "Create timestamps in the `YYYYmmdd_HHMMSS` format and save them to a separate file."
   ]
  },
  {
   "cell_type": "markdown",
   "id": "f1a916c1",
   "metadata": {},
   "source": [
    "> `!date +\"%Y%m%d_%H%M%S\" >> data/timestamps/formatted.txt`"
   ]
  },
  {
   "cell_type": "markdown",
   "id": "7765f7e4",
   "metadata": {},
   "source": [
    "### Explanation\n",
    "- **`date +\"%Y%m%d_%H%M%S\"`**: Formats the date and time as `YYYYmmdd_HHMMSS`.\n",
    "- **`>>`**: Appends the formatted timestamp to the file `formatted.txt`."
   ]
  },
  {
   "cell_type": "markdown",
   "id": "ca1a9e0f",
   "metadata": {},
   "source": [
    "### Result\n",
    "The file `formatted.txt` contains timestamps in a standardized format for easy identification and sorting."
   ]
  },
  {
   "cell_type": "markdown",
   "id": "d2ac31c8",
   "metadata": {},
   "source": [
    "## Task 4: Create Timestamped Files\n",
    "\n",
    "### Objective\n",
    "Generate empty files named using the formatted timestamp."
   ]
  },
  {
   "cell_type": "markdown",
   "id": "32ce1a36",
   "metadata": {},
   "source": [
    "> `!touch $(date +\"%Y%m%d_%H%M%S\").txt`"
   ]
  },
  {
   "cell_type": "markdown",
   "id": "006505ab",
   "metadata": {},
   "source": [
    "### Explanation\n",
    "- **`$(date +\"%Y%m%d_%H%M%S\")`**: Captures the formatted timestamp dynamically.\n",
    "- **`touch`**: Creates an empty file with the captured timestamp as its name."
   ]
  },
  {
   "cell_type": "markdown",
   "id": "fb382e69",
   "metadata": {},
   "source": [
    "### Result\n",
    "An empty file named with the current timestamp (e.g., `20241227_211141.txt`) was successfully created."
   ]
  },
  {
   "cell_type": "markdown",
   "id": "d4893779",
   "metadata": {},
   "source": [
    "## Task 5: Download Today's Weather Data\n",
    "\n",
    "### Objective\n",
    "Download weather data and saved it as `weather.json`."
   ]
  },
  {
   "cell_type": "markdown",
   "id": "00d74648",
   "metadata": {},
   "source": [
    "> `!wget -O data/weather/weather.json https://prodapi.metweb.ie/observations/athenry/today`"
   ]
  },
  {
   "cell_type": "markdown",
   "id": "d78eb74c",
   "metadata": {},
   "source": [
    "### Explanation\n",
    "- **`wget -O`**: Downloads the specified URL and saves the output to the file `weather.json`."
   ]
  },
  {
   "cell_type": "markdown",
   "id": "c4acba85",
   "metadata": {},
   "source": [
    "## Task 6: Timestamp the Data\n",
    "\n",
    "### Objective\n",
    "Download weather data and save it with a timestamped filename."
   ]
  },
  {
   "cell_type": "markdown",
   "id": "35538242",
   "metadata": {},
   "source": [
    "> `!wget -O data/weather/$(date +\"%Y%m%d_%H%M%S\").json https://prodapi.metweb.ie/observations/athenry/today`"
   ]
  },
  {
   "cell_type": "markdown",
   "id": "485457ff",
   "metadata": {},
   "source": [
    "### Explanation\n",
    "- **`$(date +\"%Y%m%d_%H%M%S\")`**: Dynamically generates a timestamp.\n",
    "- **`wget -O`**: Downloads the URL content and saves it with the timestamped filename."
   ]
  },
  {
   "cell_type": "markdown",
   "id": "338fb84d",
   "metadata": {},
   "source": [
    "### Result\n",
    "Weather data files with unique timestamped filenames (e.g., `20241227_211141.json`) were created, facilitating version control and historical tracking."
   ]
  },
  {
   "cell_type": "markdown",
   "id": "73b7f272",
   "metadata": {},
   "source": [
    "## Task 7: Write the Automation Script\n",
    "\n",
    "### Objective\n",
    "Automate the process of downloading and saving weather data using a bash script."
   ]
  },
  {
   "cell_type": "markdown",
   "id": "a81c9227",
   "metadata": {},
   "source": [
    "> `%%writefile weather.sh\n",
    "#!/bin/bash\n",
    "cd data/weather\n",
    "wget -O $(date +\"%Y%m%d_%H%M%S\").json https://prodapi.metweb.ie/observations/athenry/today`"
   ]
  },
  {
   "cell_type": "markdown",
   "id": "9c7d075b",
   "metadata": {},
   "source": [
    "### Explanation\n",
    "- **`#!/bin/bash`**: Specifies the shell interpreter.\n",
    "- **`cd data/weather`**: Navigates to the directory where weather data files are stored.\n",
    "- **`wget -O`**: Downloads the weather data and saves it with a timestamped filename."
   ]
  },
  {
   "cell_type": "markdown",
   "id": "d988975e",
   "metadata": {},
   "source": [
    "### Result\n",
    "The script (`weather.sh`) automates the task of fetching weather data, ensuring consistent and timestamped data collection."
   ]
  },
  {
   "cell_type": "markdown",
   "id": "18fda554",
   "metadata": {},
   "source": [
    "## Task 9: Analyze Weather Data with Pandas\n",
    "\n",
    "### Objective\n",
    "Load and analyze weather data using pandas to extract meaningful insights."
   ]
  },
  {
   "cell_type": "code",
   "execution_count": 1,
   "id": "88183ccc",
   "metadata": {},
   "outputs": [
    {
     "name": "stderr",
     "output_type": "stream",
     "text": [
      "C:\\Users\\desig\\anaconda3\\lib\\site-packages\\pandas\\io\\json\\_json.py:1026: UserWarning: Parsing '27-12-2024' in DD/MM/YYYY format. Provide format or specify infer_datetime_format=True for consistent parsing.\n",
      "  new_data = to_datetime(new_data, errors=\"raise\", unit=date_unit)\n"
     ]
    }
   ],
   "source": [
    "import pandas as pd\n",
    "import matplotlib.pyplot as plt\n",
    "\n",
    "# Load the JSON file\n",
    "file_path = 'data/weather/20241227_211141.json'\n",
    "df = pd.read_json(file_path)"
   ]
  },
  {
   "cell_type": "code",
   "execution_count": 2,
   "id": "710ecfad",
   "metadata": {},
   "outputs": [
    {
     "name": "stdout",
     "output_type": "stream",
     "text": [
      "       temperature  windSpeed  windDirection   humidity   rainfall  \\\n",
      "count    21.000000   21.00000      21.000000  21.000000  21.000000   \n",
      "mean      9.523810    7.47619     192.857143  93.380952   0.011429   \n",
      "std       0.679636    1.74983      20.830952   2.085094   0.043392   \n",
      "min       9.000000    4.00000     180.000000  89.000000   0.000000   \n",
      "25%       9.000000    6.00000     180.000000  92.000000   0.000000   \n",
      "50%       9.000000    7.00000     180.000000  93.000000   0.000000   \n",
      "75%      10.000000    9.00000     225.000000  95.000000   0.000000   \n",
      "max      11.000000   11.00000     225.000000  97.000000   0.200000   \n",
      "\n",
      "          pressure  \n",
      "count    21.000000  \n",
      "mean   1030.285714  \n",
      "std       0.902378  \n",
      "min    1029.000000  \n",
      "25%    1029.000000  \n",
      "50%    1031.000000  \n",
      "75%    1031.000000  \n",
      "max    1031.000000  \n"
     ]
    }
   ],
   "source": [
    "# Display summary statistics\n",
    "print(df.describe())"
   ]
  },
  {
   "cell_type": "code",
   "execution_count": 3,
   "id": "677aafee",
   "metadata": {},
   "outputs": [
    {
     "name": "stdout",
     "output_type": "stream",
     "text": [
      "      name  temperature symbol weatherDescription               text  \\\n",
      "0  Athenry            9    04n             Cloudy           \"Cloudy\"   \n",
      "1  Athenry            9    04n             Cloudy           \"Cloudy\"   \n",
      "2  Athenry           10    04n             Cloudy           \"Cloudy\"   \n",
      "3  Athenry            9    46n        Light rain   \"Recent Drizzle \"   \n",
      "4  Athenry            9    46n        Light rain    \"Light Drizzle \"   \n",
      "\n",
      "   windSpeed windGust cardinalWindDirection  windDirection  humidity  \\\n",
      "0          6        -                     S            180        94   \n",
      "1          6        -                     S            180        93   \n",
      "2          7        -                     S            180        93   \n",
      "3          7        -                     S            180        94   \n",
      "4          6        -                     S            180        95   \n",
      "\n",
      "   rainfall  pressure dayName       date reportTime  \n",
      "0      0.00      1031  Friday 2024-12-27      00:00  \n",
      "1      0.00      1031  Friday 2024-12-27      01:00  \n",
      "2      0.00      1031  Friday 2024-12-27      02:00  \n",
      "3      0.01      1031  Friday 2024-12-27      03:00  \n",
      "4      0.01      1031  Friday 2024-12-27      04:00  \n"
     ]
    }
   ],
   "source": [
    "# Display the first few rows\n",
    "print(df.head())"
   ]
  },
  {
   "cell_type": "code",
   "execution_count": 4,
   "id": "a16886b0",
   "metadata": {},
   "outputs": [
    {
     "data": {
      "image/png": "[encoded data removed]",
      "text/plain": [
       "<Figure size 720x432 with 1 Axes>"
      ]
     },
     "metadata": {
      "needs_background": "light"
     },
     "output_type": "display_data"
    }
   ],
   "source": [
    "# Plot temperature trends\n",
    "plt.figure(figsize=(10, 6))\n",
    "plt.plot(df['reportTime'], df['temperature'], marker='o', linestyle='-', label='Temperature (°C)')\n",
    "plt.title('Temperature Trends Over Time')\n",
    "plt.xlabel('Report Time')\n",
    "plt.ylabel('Temperature (°C)')\n",
    "plt.legend()\n",
    "plt.grid(True)\n",
    "plt.show()"
   ]
  },
  {
   "cell_type": "code",
   "execution_count": 5,
   "id": "8b39c5b9",
   "metadata": {},
   "outputs": [
    {
     "data": {
      "image/png": "[encoded data removed]",
      "text/plain": [
       "<Figure size 720x432 with 1 Axes>"
      ]
     },
     "metadata": {
      "needs_background": "light"
     },
     "output_type": "display_data"
    }
   ],
   "source": [
    "# Plot wind speed trends\n",
    "plt.figure(figsize=(10, 6))\n",
    "plt.plot(df['reportTime'], df['windSpeed'], marker='x', linestyle='--', color='red', label='Wind Speed (km/h)')\n",
    "plt.title('Wind Speed Trends Over Time')\n",
    "plt.xlabel('Report Time')\n",
    "plt.ylabel('Wind Speed (km/h)')\n",
    "plt.legend()\n",
    "plt.grid(True)\n",
    "plt.show()"
   ]
  },
  {
   "cell_type": "markdown",
   "id": "8cc6b3b8",
   "metadata": {},
   "source": [
    "### Dataset Overview\n",
    "The JSON file contains hourly weather observations with the following columns:\n",
    "- **name**: Name of the weather station.\n",
    "- **temperature**: Recorded temperature (°C).\n",
    "- **symbol**: Weather symbol code.\n",
    "- **weatherDescription**: Description of the weather (e.g., Cloudy, Light Rain).\n",
    "- **windSpeed**: Wind speed (km/h).\n",
    "- **humidity**: Percentage of humidity.\n",
    "- **rainfall**: Recorded rainfall (mm).\n",
    "- **pressure**: Atmospheric pressure (hPa).\n",
    "- **reportTime**: Timestamp of the observation."
   ]
  },
  {
   "cell_type": "markdown",
   "id": "d2a63b74",
   "metadata": {},
   "source": [
    "### Results\n",
    "- **Summary Statistics**: Provided an overview of numerical data (e.g., temperature, wind speed).\n",
    "- **Initial Observations**: Allowed verification of data structure and contents.\n",
    "\n",
    "\n",
    "- **Charts**:\n",
    "  - A temperature trend chart visualized how temperatures varied over time. \n",
    "  - A wind speed trend chart illustrated changes in wind speed across the recorded period."
   ]
  },
  {
   "cell_type": "markdown",
   "id": "c2874405",
   "metadata": {},
   "source": [
    "### Insights\n",
    "The data revealed hourly weather trends for the Athenry station, including temperature fluctuations, wind patterns, and rainfall observations. These insights can inform forecasting models and weather-related decision-making."
   ]
  },
  {
   "cell_type": "markdown",
   "id": "1e7da305",
   "metadata": {},
   "source": [
    "## Strengths of the Analysis\n",
    "\n",
    "1. **Balanced Dataset:**\n",
    "   - The dataset collected is well-organized with consistent timestamps, ensuring accurate versioning and traceability.\n",
    "\n",
    "2. **Automation:**\n",
    "   - Automated weather data collection and timestamping streamlined the workflow, reducing manual effort and ensuring regular updates.\n",
    "\n",
    "3. **Validation and Analysis:**\n",
    "   - The use of pandas for data validation and exploratory analysis provided clear insights into weather patterns and trends.\n",
    "\n",
    "4. **Scalability:**\n",
    "   - The directory structure and automation scripts are scalable for collecting and managing data from multiple weather stations."
   ]
  },
  {
   "cell_type": "markdown",
   "id": "8b688272",
   "metadata": {},
   "source": [
    "## Conclusion\n",
    "\n",
    "This project successfully streamlined the processes of data collection, organization, and analysis for weather data. Key achievements include:\n",
    "\n",
    "\n",
    "- **Automation**: Efficiently automated data fetching with timestamped filenames.\n",
    "- **Data Structuring**: Created a logical directory structure for easy file management.\n",
    "- **Analysis**: Leveraged pandas to extract insights from weather data.\n",
    "- **Visualization**: Enhanced understanding of weather patterns with informative.\n",
    "\n",
    "\n",
    "\n",
    "The approach highlights the power of combining shell scripting and Python for automating and analyzing real-world datasets."
   ]
  },
  {
   "cell_type": "code",
   "execution_count": null,
   "id": "a97b48db",
   "metadata": {},
   "outputs": [],
   "source": []
  }
 ],
 "metadata": {
  "kernelspec": {
   "display_name": "Python 3 (ipykernel)",
   "language": "python",
   "name": "python3"
  },
  "language_info": {
   "codemirror_mode": {
    "name": "ipython",
    "version": 3
   },
   "file_extension": ".py",
   "mimetype": "text/x-python",
   "name": "python",
   "nbconvert_exporter": "python",
   "pygments_lexer": "ipython3",
   "version": "3.9.7"
  }
 },
 "nbformat": 4,
 "nbformat_minor": 5
}
