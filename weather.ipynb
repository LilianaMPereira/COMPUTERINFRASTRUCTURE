{
 "cells": [
  {
   "cell_type": "markdown",
   "metadata": {},
   "source": [
    "# Weather Task Report\n",
    "\n",
    "This notebook provides a summary of how Tasks 1 to 7 were completed in the repository. Each task is described briefly with the commands used and their purposes."
   ]
  },
  {
   "cell_type": "markdown",
   "metadata": {},
   "source": [
    "## Task 1: Create Directory Structure\n",
    "To organize the project, we created the following directory structure:\n",
    "- `data`\n",
    "  - `timestamps`\n",
    "  - `weather`\n",
    "\n",
    "Command used:\n",
    "```bash\n",
    "mkdir -p data/timestamps data/weather\n",
    "```\n",
    "This creates the `data` directory with subdirectories `timestamps` and `weather`."
   ]
  },
  {
   "cell_type": "markdown",
   "metadata": {},
   "source": [
    "## Task 2: Timestamps\n",
    "We generated the current date and time ten times and appended it to a file named `now.txt`.\n",
    "\n",
    "Command used:\n",
    "```bash\n",
    "for i in {1..10}; do date >> data/timestamps/now.txt; done\n",
    "```\n",
    "This loop runs the `date` command ten times and appends the output to `now.txt`."
   ]
  },
  {
   "cell_type": "markdown",
   "metadata": {},
   "source": [
    "## Task 3: Formatting Timestamps\n",
    "We generated formatted timestamps in the `YYYYmmdd_HHMMSS` format and saved them to `formatted.txt`.\n",
    "\n",
    "Command used:\n",
    "```bash\n",
    "date +\"%Y%m%d_%H%M%S\" >> data/timestamps/formatted.txt\n",
    "```\n",
    "This appends a formatted timestamp to `formatted.txt`."
   ]
  },
  {
   "cell_type": "markdown",
   "metadata": {},
   "source": [
    "## Task 4: Create Timestamped Files\n",
    "We created empty files named using the `YYYYmmdd_HHMMSS.txt` format.\n",
    "\n",
    "Command used:\n",
    "```bash\n",
    "touch $(date +\"%Y%m%d_%H%M%S\").txt\n",
    "```\n",
    "This creates a file with a timestamped name."
   ]
  },
  {
   "cell_type": "markdown",
   "metadata": {},
   "source": [
    "## Task 5: Download Today's Weather Data\n",
    "We downloaded weather data and saved it as `weather.json`.\n",
    "\n",
    "Command used:\n",
    "```bash\n",
    "wget -O data/weather/weather.json https://prodapi.metweb.ie/observations/athenry/today\n",
    "```\n",
    "This fetches weather data from the provided URL and saves it with a fixed filename."
   ]
  },
  {
   "cell_type": "markdown",
   "metadata": {},
   "source": [
    "## Task 6: Timestamp the Data\n",
    "We downloaded weather data and saved it with a timestamped filename.\n",
    "\n",
    "Command used:\n",
    "```bash\n",
    "wget -O data/weather/$(date +\"%Y%m%d_%H%M%S\").json https://prodapi.metweb.ie/observations/athenry/today\n",
    "```\n",
    "This saves the downloaded data with a filename that includes the current timestamp."
   ]
  },
  {
   "cell_type": "markdown",
   "metadata": {},
   "source": [
    "## Task 7: Write the Script\n",
    "We automated the weather data download process by writing a script named `weather.sh`.\n",
    "\n",
    "Script content:\n",
    "```bash\n",
    "#!/bin/bash\n",
    "cd data/weather\n",
    "wget -O $(date +\"%Y%m%d_%H%M%S\").json https://prodapi.metweb.ie/observations/athenry/today\n",
    "```\n",
    "This script automates the task of downloading weather data with a timestamped filename."
   ]
  },
  {
   "cell_type": "markdown",
   "metadata": {},
   "source": [
    "## Summary\n",
    "The above tasks organized data collection, formatting, and automation processes. The use of shell commands like `mkdir`, `date`, `touch`, and `wget`, as well as scripting, streamlined the workflow."
   ]
  }
 ],
 "metadata": {
  "kernelspec": {
   "display_name": "Python 3",
   "language": "python",
   "name": "python3"
  },
  "language_info": {
   "codemirror_mode": {
    "name": "ipython",
    "version": 3
   },
   "file_extension": ".py",
   "mimetype": "text/x-python",
   "name": "python",
   "nbconvert_exporter": "python",
   "pygments_lexer": "ipython3",
   "version": "3.8.10"
  }
 },
 "nbformat": 4,
 "nbformat_minor": 5
}
